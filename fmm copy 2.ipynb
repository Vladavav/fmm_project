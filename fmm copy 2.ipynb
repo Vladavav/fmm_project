{
 "cells": [
  {
   "cell_type": "code",
   "execution_count": 1,
   "metadata": {},
   "outputs": [],
   "source": [
    "# импортируем модуль\n",
    "import requests\n",
    "import json\n",
    "from bs4 import BeautifulSoup\n",
    "import pandas as pd\n",
    "import numpy as np\n",
    "import time\n",
    "import lxml\n"
   ]
  },
  {
   "cell_type": "code",
   "execution_count": 3,
   "metadata": {},
   "outputs": [
    {
     "name": "stdout",
     "output_type": "stream",
     "text": [
      "<!DOCTYPE html>\n",
      "<html lang=\"en-US\">\n",
      " <head>\n",
      "  <title>\n",
      "   Just a moment...\n",
      "  </title>\n",
      "  <meta content=\"text/html; charset=utf-8\" http-equiv=\"Content-Type\"/>\n",
      "  <meta content=\"IE=Edge\" http-equiv=\"X-UA-Compatible\"/>\n",
      "  <meta content=\"noindex,nofollow\" name=\"robots\"/>\n",
      "  <meta content=\"width=device-width,initial-scale=1\" name=\"viewport\"/>\n",
      "  <style>\n",
      "   *{box-sizing:border-box;margin:0;padding:0}html{line-height:1.15;-webkit-text-size-adjust:100%;color:#313131}button,html{font-family:system-ui,-apple-system,BlinkMacSystemFont,Segoe UI,Roboto,Helvetica Neue,Arial,Noto Sans,sans-serif,Apple Color Emoji,Segoe UI Emoji,Segoe UI Symbol,Noto Color Emoji}@media (prefers-color-scheme:dark){body{background-color:#222;color:#d9d9d9}body a{color:#fff}body a:hover{color:#ee730a;text-decoration:underline}body .lds-ring div{border-color:#999 transparent transparent}body .font-red{color:#b20f03}body .pow-button{background-color:#4693ff;color:#1d1d1d}body #challenge-success-text{background-image:url(data:image/svg+xml;base64,PHN2ZyB4bWxucz0iaHR0cDovL3d3dy53My5vcmcvMjAwMC9zdmciIHdpZHRoPSIzMiIgaGVpZ2h0PSIzMiIgZmlsbD0ibm9uZSIgdmlld0JveD0iMCAwIDI2IDI2Ij48cGF0aCBmaWxsPSIjZDlkOWQ5IiBkPSJNMTMgMGExMyAxMyAwIDEgMCAwIDI2IDEzIDEzIDAgMCAwIDAtMjZtMCAyNGExMSAxMSAwIDEgMSAwLTIyIDExIDExIDAgMCAxIDAgMjIiLz48cGF0aCBmaWxsPSIjZDlkOWQ5IiBkPSJtMTAuOTU1IDE2LjA1NS0zLjk1LTQuMTI1LTEuNDQ1IDEuMzg1IDUuMzcgNS42MSA5LjQ5NS05LjYtMS40Mi0xLjQwNXoiLz48L3N2Zz4=)}body #challenge-error-text{background-image:url(data:image/svg+xml;base64,PHN2ZyB4bWxucz0iaHR0cDovL3d3dy53My5vcmcvMjAwMC9zdmciIHdpZHRoPSIzMiIgaGVpZ2h0PSIzMiIgZmlsbD0ibm9uZSI+PHBhdGggZmlsbD0iI0IyMEYwMyIgZD0iTTE2IDNhMTMgMTMgMCAxIDAgMTMgMTNBMTMuMDE1IDEzLjAxNSAwIDAgMCAxNiAzbTAgMjRhMTEgMTEgMCAxIDEgMTEtMTEgMTEuMDEgMTEuMDEgMCAwIDEtMTEgMTEiLz48cGF0aCBmaWxsPSIjQjIwRjAzIiBkPSJNMTcuMDM4IDE4LjYxNUgxNC44N0wxNC41NjMgOS41aDIuNzgzem0tMS4wODQgMS40MjdxLjY2IDAgMS4wNTcuMzg4LjQwNy4zODkuNDA3Ljk5NCAwIC41OTYtLjQwNy45ODQtLjM5Ny4zOS0xLjA1Ny4zODktLjY1IDAtMS4wNTYtLjM4OS0uMzk4LS4zODktLjM5OC0uOTg0IDAtLjU5Ny4zOTgtLjk4NS40MDYtLjM5NyAxLjA1Ni0uMzk3Ii8+PC9zdmc+)}}body{display:flex;flex-direction:column;min-height:100vh}body.no-js .loading-spinner{visibility:hidden}body.no-js .challenge-running{display:none}body.dark{background-color:#222;color:#d9d9d9}body.dark a{color:#fff}body.dark a:hover{color:#ee730a;text-decoration:underline}body.dark .lds-ring div{border-color:#999 transparent transparent}body.dark .font-red{color:#b20f03}body.dark .pow-button{background-color:#4693ff;color:#1d1d1d}body.dark #challenge-success-text{background-image:url(data:image/svg+xml;base64,PHN2ZyB4bWxucz0iaHR0cDovL3d3dy53My5vcmcvMjAwMC9zdmciIHdpZHRoPSIzMiIgaGVpZ2h0PSIzMiIgZmlsbD0ibm9uZSIgdmlld0JveD0iMCAwIDI2IDI2Ij48cGF0aCBmaWxsPSIjZDlkOWQ5IiBkPSJNMTMgMGExMyAxMyAwIDEgMCAwIDI2IDEzIDEzIDAgMCAwIDAtMjZtMCAyNGExMSAxMSAwIDEgMSAwLTIyIDExIDExIDAgMCAxIDAgMjIiLz48cGF0aCBmaWxsPSIjZDlkOWQ5IiBkPSJtMTAuOTU1IDE2LjA1NS0zLjk1LTQuMTI1LTEuNDQ1IDEuMzg1IDUuMzcgNS42MSA5LjQ5NS05LjYtMS40Mi0xLjQwNXoiLz48L3N2Zz4=)}body.dark #challenge-error-text{background-image:url(data:image/svg+xml;base64,PHN2ZyB4bWxucz0iaHR0cDovL3d3dy53My5vcmcvMjAwMC9zdmciIHdpZHRoPSIzMiIgaGVpZ2h0PSIzMiIgZmlsbD0ibm9uZSI+PHBhdGggZmlsbD0iI0IyMEYwMyIgZD0iTTE2IDNhMTMgMTMgMCAxIDAgMTMgMTNBMTMuMDE1IDEzLjAxNSAwIDAgMCAxNiAzbTAgMjRhMTEgMTEgMCAxIDEgMTEtMTEgMTEuMDEgMTEuMDEgMCAwIDEtMTEgMTEiLz48cGF0aCBmaWxsPSIjQjIwRjAzIiBkPSJNMTcuMDM4IDE4LjYxNUgxNC44N0wxNC41NjMgOS41aDIuNzgzem0tMS4wODQgMS40MjdxLjY2IDAgMS4wNTcuMzg4LjQwNy4zODkuNDA3Ljk5NCAwIC41OTYtLjQwNy45ODQtLjM5Ny4zOS0xLjA1Ny4zODktLjY1IDAtMS4wNTYtLjM4OS0uMzk4LS4zODktLjM5OC0uOTg0IDAtLjU5Ny4zOTgtLjk4NS40MDYtLjM5NyAxLjA1Ni0uMzk3Ii8+PC9zdmc+)}body.light{background-color:transparent;color:#313131}body.light a{color:#0051c3}body.light a:hover{color:#ee730a;text-decoration:underline}body.light .lds-ring div{border-color:#595959 transparent transparent}body.light .font-red{color:#fc574a}body.light .pow-button{background-color:#003681;border-color:#003681;color:#fff}body.light #challenge-success-text{background-image:url(data:image/svg+xml;base64,PHN2ZyB4bWxucz0iaHR0cDovL3d3dy53My5vcmcvMjAwMC9zdmciIHdpZHRoPSIzMiIgaGVpZ2h0PSIzMiIgZmlsbD0ibm9uZSIgdmlld0JveD0iMCAwIDI2IDI2Ij48cGF0aCBmaWxsPSIjMzEzMTMxIiBkPSJNMTMgMGExMyAxMyAwIDEgMCAwIDI2IDEzIDEzIDAgMCAwIDAtMjZtMCAyNGExMSAxMSAwIDEgMSAwLTIyIDExIDExIDAgMCAxIDAgMjIiLz48cGF0aCBmaWxsPSIjMzEzMTMxIiBkPSJtMTAuOTU1IDE2LjA1NS0zLjk1LTQuMTI1LTEuNDQ1IDEuMzg1IDUuMzcgNS42MSA5LjQ5NS05LjYtMS40Mi0xLjQwNXoiLz48L3N2Zz4=)}body.light #challenge-error-text{background-image:url(data:image/svg+xml;base64,PHN2ZyB4bWxucz0iaHR0cDovL3d3dy53My5vcmcvMjAwMC9zdmciIHdpZHRoPSIzMiIgaGVpZ2h0PSIzMiIgZmlsbD0ibm9uZSI+PHBhdGggZmlsbD0iI2ZjNTc0YSIgZD0iTTE2IDNhMTMgMTMgMCAxIDAgMTMgMTNBMTMuMDE1IDEzLjAxNSAwIDAgMCAxNiAzbTAgMjRhMTEgMTEgMCAxIDEgMTEtMTEgMTEuMDEgMTEuMDEgMCAwIDEtMTEgMTEiLz48cGF0aCBmaWxsPSIjZmM1NzRhIiBkPSJNMTcuMDM4IDE4LjYxNUgxNC44N0wxNC41NjMgOS41aDIuNzgzem0tMS4wODQgMS40MjdxLjY2IDAgMS4wNTcuMzg4LjQwNy4zODkuNDA3Ljk5NCAwIC41OTYtLjQwNy45ODQtLjM5Ny4zOS0xLjA1Ny4zODktLjY1IDAtMS4wNTYtLjM4OS0uMzk4LS4zODktLjM5OC0uOTg0IDAtLjU5Ny4zOTgtLjk4NS40MDYtLjM5NyAxLjA1Ni0uMzk3Ii8+PC9zdmc+)}a{background-color:transparent;color:#0051c3;text-decoration:none;transition:color .15s ease}a:hover{color:#ee730a;text-decoration:underline}.main-content{margin:8rem auto;max-width:60rem;width:100%}.heading-favicon{height:2rem;margin-right:.5rem;width:2rem}@media (width <= 720px){.main-content{margin-top:4rem}.heading-favicon{height:1.5rem;width:1.5rem}}.footer,.main-content{padding-left:1.5rem;padding-right:1.5rem}.main-wrapper{align-items:center;display:flex;flex:1;flex-direction:column}.font-red{color:#b20f03}.spacer{margin:2rem 0}.h1{font-size:2.5rem;font-weight:500;line-height:3.75rem}.h2{font-weight:500}.core-msg,.h2{font-size:1.5rem;line-height:2.25rem}.body-text,.core-msg{font-weight:400}.body-text{font-size:1rem;line-height:1.25rem}@media (width <= 720px){.h1{font-size:1.5rem;line-height:1.75rem}.h2{font-size:1.25rem}.core-msg,.h2{line-height:1.5rem}.core-msg{font-size:1rem}}#challenge-error-text{background-image:url(data:image/svg+xml;base64,PHN2ZyB4bWxucz0iaHR0cDovL3d3dy53My5vcmcvMjAwMC9zdmciIHdpZHRoPSIzMiIgaGVpZ2h0PSIzMiIgZmlsbD0ibm9uZSI+PHBhdGggZmlsbD0iI2ZjNTc0YSIgZD0iTTE2IDNhMTMgMTMgMCAxIDAgMTMgMTNBMTMuMDE1IDEzLjAxNSAwIDAgMCAxNiAzbTAgMjRhMTEgMTEgMCAxIDEgMTEtMTEgMTEuMDEgMTEuMDEgMCAwIDEtMTEgMTEiLz48cGF0aCBmaWxsPSIjZmM1NzRhIiBkPSJNMTcuMDM4IDE4LjYxNUgxNC44N0wxNC41NjMgOS41aDIuNzgzem0tMS4wODQgMS40MjdxLjY2IDAgMS4wNTcuMzg4LjQwNy4zODkuNDA3Ljk5NCAwIC41OTYtLjQwNy45ODQtLjM5Ny4zOS0xLjA1Ny4zODktLjY1IDAtMS4wNTYtLjM4OS0uMzk4LS4zODktLjM5OC0uOTg0IDAtLjU5Ny4zOTgtLjk4NS40MDYtLjM5NyAxLjA1Ni0uMzk3Ii8+PC9zdmc+);padding-left:34px}#challenge-error-text,#challenge-success-text{background-repeat:no-repeat;background-size:contain}#challenge-success-text{background-image:url(data:image/svg+xml;base64,PHN2ZyB4bWxucz0iaHR0cDovL3d3dy53My5vcmcvMjAwMC9zdmciIHdpZHRoPSIzMiIgaGVpZ2h0PSIzMiIgZmlsbD0ibm9uZSIgdmlld0JveD0iMCAwIDI2IDI2Ij48cGF0aCBmaWxsPSIjMzEzMTMxIiBkPSJNMTMgMGExMyAxMyAwIDEgMCAwIDI2IDEzIDEzIDAgMCAwIDAtMjZtMCAyNGExMSAxMSAwIDEgMSAwLTIyIDExIDExIDAgMCAxIDAgMjIiLz48cGF0aCBmaWxsPSIjMzEzMTMxIiBkPSJtMTAuOTU1IDE2LjA1NS0zLjk1LTQuMTI1LTEuNDQ1IDEuMzg1IDUuMzcgNS42MSA5LjQ5NS05LjYtMS40Mi0xLjQwNXoiLz48L3N2Zz4=);padding-left:42px}.text-center{text-align:center}.pow-button{background-color:#0051c3;border:.063rem solid #0051c3;border-radius:.313rem;color:#fff;font-size:.875rem;line-height:1.313rem;margin:2rem 0;padding:.375rem 1rem;transition-duration:.2s;transition-property:background-color,border-color,color;transition-timing-function:ease}.pow-button:hover{background-color:#003681;border-color:#003681;color:#fff;cursor:pointer}.footer{font-size:.75rem;line-height:1.125rem;margin:0 auto;max-width:60rem;width:100%}.footer-inner{border-top:1px solid #d9d9d9;padding-bottom:1rem;padding-top:1rem}.clearfix:after{clear:both;content:\"\";display:table}.clearfix .column{float:left;padding-right:1.5rem;width:50%}.diagnostic-wrapper{margin-bottom:.5rem}.footer .ray-id{text-align:center}.footer .ray-id code{font-family:monaco,courier,monospace}.core-msg,.zone-name-title{overflow-wrap:break-word}@media (width <= 720px){.diagnostic-wrapper{display:flex;flex-wrap:wrap;justify-content:center}.clearfix:after{clear:none;content:none;display:initial;text-align:center}.column{padding-bottom:2rem}.clearfix .column{float:none;padding:0;width:auto;word-break:keep-all}.zone-name-title{margin-bottom:1rem}}.loading-spinner{height:76.391px}.lds-ring{display:inline-block;position:relative}.lds-ring,.lds-ring div{height:1.875rem;width:1.875rem}.lds-ring div{animation:lds-ring 1.2s cubic-bezier(.5,0,.5,1) infinite;border:.3rem solid transparent;border-radius:50%;border-top-color:#313131;box-sizing:border-box;display:block;position:absolute}.lds-ring div:first-child{animation-delay:-.45s}.lds-ring div:nth-child(2){animation-delay:-.3s}.lds-ring div:nth-child(3){animation-delay:-.15s}@keyframes lds-ring{0%{transform:rotate(0)}to{transform:rotate(1turn)}}@media screen and (-ms-high-contrast:active),screen and (-ms-high-contrast:none){.main-wrapper,body{display:block}}.rtl .heading-favicon{margin-left:.5rem;margin-right:0}.rtl #challenge-success-text{background-position:100%;padding-left:0;padding-right:42px}.rtl #challenge-error-text{background-position:100%;padding-left:0;padding-right:34px}\n",
      "  </style>\n",
      "  <meta content=\"390\" http-equiv=\"refresh\"/>\n",
      " </head>\n",
      " <body class=\"no-js\">\n",
      "  <div class=\"main-wrapper\" role=\"main\">\n",
      "   <div class=\"main-content\">\n",
      "    <noscript>\n",
      "     <div id=\"challenge-error-title\">\n",
      "      <div class=\"h2\">\n",
      "       <span id=\"challenge-error-text\">\n",
      "        Enable JavaScript and cookies to continue\n",
      "       </span>\n",
      "      </div>\n",
      "     </div>\n",
      "    </noscript>\n",
      "   </div>\n",
      "  </div>\n",
      "  <script>\n",
      "   (function(){window._cf_chl_opt={cvId: '3',cZone: \"ithinker.ru\",cType: 'managed',cNounce: '85127',cRay: '8a102c162bd8972f',cHash: '5de3bff7775507a',cUPMDTk: \"\\/list\\/filmy-netfliks\\/?__cf_chl_tk=aDU6wR9vkgQruplIr_09ECzFciknEcYNV_mFSHJbsAI-1720610507-0.0.1.1-3774\",cFPWv: 'b',cTTimeMs: '1000',cMTimeMs: '390000',cTplV: 5,cTplB: 'cf',cK: \"\",fa: \"\\/list\\/filmy-netfliks\\/?__cf_chl_f_tk=aDU6wR9vkgQruplIr_09ECzFciknEcYNV_mFSHJbsAI-1720610507-0.0.1.1-3774\",md: \"sA.NoTPuQmeSBbiY8T8BptLF8XwmgTEG6AsZW9dOJks-1720610507-1.1.1.1-jThEoXw3kx.2NRm5S.0PBPhtWzR53oamqNYxVJ5JEXdZt44IbnJDAGIDj1B5zUhLk75acPNDocAT0hbfq1WuyeXD_EiQ0hct4nD_tB3NPtEvjzhheee1gsiSkhgbw2r6O4PUbyfqb3aFRn5mC5ZsebAVcDBBXqZl792nNfCop0z78YpasfLKn6gx1Vv9.OnQk9W8r15S5tGwblzG83ZhjrySPhrNsAc5jy_NN9B9upLeIEfbczAUYEDraJg64jY7zfm02bWxKhLAyS1.YU4e11g7mi4a0VTqWtePfFXWQ2wyBuCPeDdedZcB_mraZGzkwPGLl9k5klThsIUtqqiCDdAESdLOVDDdmTSn4A0ZXiCgEDlZcYzC1TdBmyW2ZpJiDWaFqF.8u9vZ2RjKoXwRhCmaXcxLY1feAn64Pckofs5Msx1.8_WCWFRiRtYq99PFWuhze312A40ojJISvY7TWPsW7WZXc03h5Duflzsl04FH3ZPnE2vA9WPA6VZxzqinAP6mIzxUtFBSEfJK5JmDPN5GY.d2D3DkQXfLVbFTEfTlG1YIbGFsuhlyFEsOnjTBrftCy_SQ91hhRzWqc98E82vdEoEyx3V4sgjdUNf8v6EvC5NHRPx5Zg.ClK1K2MgIwSN4ZZ3qt5BhOXtv6fUfvQKMpvFBR7UKNt4E5WFR2tBDk0QdBmkLcVO55jRd24sbVI7Fh4DqixdBmcmREFlaWzyfSiumL_DMpuDh41fqt5PPwmsLukwHE8K3G6AQTeXV7v1FIdHaOFHArOVtTWDWbzHnZ6jcZwfsu9_onRjYqoUZPUhoez_gtNDWh6D02tFDoyToChPiZDW81ZaG1zSU71t9g_8yScaclcRM22vJ4vibY1aBzINl6n5HEfLevlMrXxbcqM8PqFORKOkLlABmhk.fo11s20ppjmq1uzqvKbmovaelPx4fdQNaGvIYYhhik1M_HWgFIGENWB29XpmCp5IN6QfaYHtE2UNzBeiaPR.UXJ2xhitjrxN_oJE4JlUxHmGVwdtz_k4h.GEuRqQaSXpUbHLHNfOCKrINqTF4f_.tpxsIjLjGhjJmX.4AAm8NzQ36tX7OdjuaOdPdSC_MxtiGYwUaRHj0drqI08cymEfqSsuGeV3s_dwYJ6L6pqQm8G6gzPNX9obHtrsra0.oZ4MJKjgvha0dFcflmQEfTyRLVvoA_Nua8t1RKZLxTF1mAJBceHSdZ973MRnWQWXzh1z0aPsIgBFrko8qMHKfgTCWuod2DB0iRv_TCvDUwVDZ.m.ju.5gkCov3GEq6_d4lPaOyHN0Sr2S_vZEzyxuOK81W4JdatlARxbiEv4HB9eCEHcZJm2qaP1zox6sxgGNj5PFEvFhSYUz5rrx5zljsP6KT_4UXR7T7DeNNLYKhoeMtVZM7y5GZDPqapXYTE7sXtw5xiUpetouV7UCO.Ad0S.BODrN0ZM5wIIwmUpO5xgdgeaUCH3.DFvjqZoF7WpbNjEWogDQyRozXurVedqf9VeXpmYxqSCx0BaJwWJ7CtMQ\",mdrd: \"SA4GNc7Syjh.ZcaPRhcIdNADz2UNniqy4aJSkhprXo0-1720610507-1.1.1.1-8X3.hpuu16u36_rlbgiK39ujt5QpsTTDZCFOfWf7BFZzPSqsctdPoaYMfZVHMZptRf_AfSrnNV6Q4l6oKF_SrllkNhDIiyrBQlCodyCdSc7QH4ijEypWb9nkegW3f76ovKfw38AdcUfm9g0q1_YdK8K_2ATt1U7_a1OBSXIoMHtuH9wa3DxvZrxBixAF.gdT71mxKLlFEj4iICY_wsmPuUrfGAl3Td1w8eCUqDulIFHIAURcFdTeuDNZnbdl33vqkg5rRQC_jM6TfJazMDc3gS3hm8Q4.0H2kfwo46zY7Zl0K_UTwHrvl7bTaKZ6Cibgm9ppvijkxFjxU6cb6nTl.S89Np.SP1kWKhOAEhUEeYw4MERsHmpv5zlBA7UNPkAkiCD1h5e_CTduP9ZMlzQTBzD0C5hBepO86DiOWshn7VN_NHZrPkyIKWl2wtN7nO72EC2KKyQImgnJyj4_Esl3pxHinuMBehWMbk8TvdJ92qMrYh_e7U4RGm3LIBwZFpl0DercN.Emidz.k5bJrm0WbppK9Q754K.zWZIPuwAS2j7BCd3XDHqd_8m4ZIk8A5Ncn5Ahad0iJ7uxIyoSOZWK7SA2NEQebSSOVXx11fD47YAxGBCKucGDnvbAAneZvR4ItM9PVCOXkjx_0tT6utTUV6rZU0Avh5sz2nUyJl.5bmWGAC84uiGfic0gWI2rZXhS21MQUpLg7VYKw2uWdzrVpNpaivc9tv0qEZKZDuEFYQikgrGv9rI9va0ndfO483wB5JGJDmvulN8rOSD29XzgVe27M3saaHc0gfQfatAQuA4w4M27QSMD4_fROu43tdeNI2zPqfcEYC0T9fY5ADVHkoIBfKrbHmMTcH3FmvmNntO4rFTWyqhwwdUOnIJLeD1obBOlQTpdmH03Xf0qiwaHr8vzxg40rHOv6mdetkhsTOtPGkvg4nyNkARnyJGKukJWDWek61AVXX4gES0UqbW1l5DvGd7NHimmlsic3A89SYiIyKzuV6grLA0FDQeoxEdk98A7vVbFQ6jxM2sf6MNwtpNIMIvEc6nrjhDR74keQJxyk5PlzHo188BrnFtmpMy463xjWgDP6gDt6FVS.ldR4VaCTq8qk9qUrK.FOyoxBMftHLKP7eJ99cOjsNNEo3xzaDlVPQlSNQmACiceL8weKsl4hDTHRjG2u2_t5zBYdgAXCLDj5UH1QoZur6KtUZ62_..MUQnLtwMlFTwSBmS2ExjyHKykqi1nQCYx6j77PvnYmXjlIDBZ6ZntBMbqtNKFNtfm9z_Rp2bzrYFmzvJimV.cIqqar9L9MWgmd35gDWbEBFEdWclbcWylGEyTmXcE4w3OUlOJNH1qS724zRKHq49E7w2PYQ5C1oXz.IHTLHBTmi_m6IskWZxm6HVP_CCqfauYRGAyWvZLaSPLYx9dOvAxxaAROiu5EgQK5nBKzpknQx0d3NQmj6x.YBkcDL8h7XXtFSMRledRVIi5uc.HBlBazaTW3Bo7aYqxVSvrikIs4AkfENY1LpjIqvB_6PI_80fAXDxiXGt3UR9vOTmhGpHWmya7POLecV.HzqGEuxcvPVavvIpamiPIlNrF4dGsQaFwu177p_cWiqEI2FxKgVr6HRfrgjAstt6vdqPU2QV204YwUBaj2DKsoE2o0wmXD8wHDluZ4ByYibEiRaR6LIEhiSXXeUXCH9bBlbij_fukOreEned6t0H3Gb9PYkam0cr3vOXkl4kNQllRH1NLp_EVh_7QCMjz.Mlws4lDuEUqFko4VTLRDNAKk2JbX5W3bXmoArFb9p6BDCtxVGuwiqbMHxwVLlgoNLaLlB7_qX9OCAzrBYWp5sf1uP_l6qgf6RCxiU7qBNzWhShQ3cvvoCmAqteWJ3TGrgB6KL3AryrHwCSV__yEp7zZfzAiXUrWdH61NaUUf9jTMcAlXXrvjnuHEShJ2HRXUJJDaT1evCJFQhKMvY5jsf.tfxDQXcM39eVsobZJuZQfnHNKRHKx7YqwQXdLwfTXXz8ze5hbs2WnKWJc2JmgujmN27IA.D7S0nnusphPZCTUg7BKLYzZ1y7ez.2KKrESiRfVBKtYICJZN1Eld4ieR7klPV_0TIte\",cRq: {ru: 'aHR0cHM6Ly9pdGhpbmtlci5ydS9saXN0L2ZpbG15LW5ldGZsaWtzLw==',ra: 'cHl0aG9uLXJlcXVlc3RzLzIuMzIuMg==',rm: 'R0VU',d: 'gcaiOB149+PZFTckzpDPyFYy7UeACjJcQPB7pLxipGNnUBxubzpcMLRAYBxwI0pSO+uZUlL1J22qj1+Y8mHFwM58nkzecEMv9d8Q/PE/dzww/SpjXhin/MlDYdfrtwPLgIO1pT33CVjjqMpBmh6ftSHOoyHsjCFdGZEoUeSvby5peFFuy5EDs/S44CwyyDoyZV6dyCtIFRIp/TlaukWaCr0/KzwjpipRt5BBJJ2tTSoeqRgLMzg7AFT4lZ/DnNLrAC/Eel49/gdNH7DtUE1XtEmxd1hX+0aoTV28r2q9wt9L0Sq7HwVRhwwlSTRB/lWYcefwVMnLIHYEJn2DkWbeLY5dxjIbko055oAl1oRjZel4oSfhRD3Cz6xkdqDv1VyC4ARTR781kG2xbDvAHZNbtXSZKihfYclIAl4CUspZthm/6AdDZfKQ4B/v3z1swwFF+NX/z1JZlblSEfqHH21cTrFNqKaoo3DleL3/4wDzfTQFt/KToxywCIy25qrb4BWehKmCyCwLsc6ry98Pn/IOMlqWVRGPzcI6A8CHwsMzO8aKVWXEQjvHjyXJTeRMidnT',t: 'MTcyMDYxMDUwNy4wMDAwMDA=',cT: Math.floor(Date.now() / 1000),m: '/c38oPjB7FL6865H/2SQOWowR68BPRIeGqgkNzflrJE=',i1: 'gpIFlOKxwmUGU4upFOPIVw==',i2: 'kxNiQ4MIjFWKHyCFLggk2Q==',zh: '9OerCZB+27TYdpj7hxRZPRBXw7W/wc90nax9a+OoR48=',uh: 'EUgwVVbDQukXggN+0px9kCx0gctYzZkEeWUabYqwW7Y=',hh: 'XKG2dpYz+89G1cOz5GtvI5Lei8WTL65S8k7pTDKnGJk=',}};var cpo = document.createElement('script');cpo.src = '/cdn-cgi/challenge-platform/h/b/orchestrate/chl_page/v1?ray=8a102c162bd8972f';window._cf_chl_opt.cOgUHash = location.hash === '' && location.href.indexOf('#') !== -1 ? '#' : location.hash;window._cf_chl_opt.cOgUQuery = location.search === '' && location.href.slice(0, location.href.length - window._cf_chl_opt.cOgUHash.length).indexOf('?') !== -1 ? '?' : location.search;if (window.history && window.history.replaceState) {var ogU = location.pathname + window._cf_chl_opt.cOgUQuery + window._cf_chl_opt.cOgUHash;history.replaceState(null, null, \"\\/list\\/filmy-netfliks\\/?__cf_chl_rt_tk=aDU6wR9vkgQruplIr_09ECzFciknEcYNV_mFSHJbsAI-1720610507-0.0.1.1-3774\" + window._cf_chl_opt.cOgUHash);cpo.onload = function() {history.replaceState(null, null, ogU);}}document.getElementsByTagName('head')[0].appendChild(cpo);}());\n",
      "  </script>\n",
      " </body>\n",
      "</html>\n",
      "\n"
     ]
    }
   ],
   "source": [
    "url = \"https://ithinker.ru/list/filmy-netfliks/\"\n",
    "\n",
    "headers = {\n",
    "    'User-Agent': 'Mozilla/5.0 (Windows NT 10.0; Win64; x64) AppleWebKit/537.36 (KHTML, like Gecko) Chrome/91.0.4472.124 Safari/537.36'\n",
    "}\n",
    "\n",
    "req = requests.get(url)\n",
    "src = req.text\n",
    "\n",
    "soup = BeautifulSoup(src, \"lxml\")  # Теперь src доступен \n",
    "\n",
    "print(soup.prettify())\n"
   ]
  }
 ],
 "metadata": {
  "kernelspec": {
   "display_name": "base",
   "language": "python",
   "name": "python3"
  },
  "language_info": {
   "codemirror_mode": {
    "name": "ipython",
    "version": 3
   },
   "file_extension": ".py",
   "mimetype": "text/x-python",
   "name": "python",
   "nbconvert_exporter": "python",
   "pygments_lexer": "ipython3",
   "version": "3.12.3"
  }
 },
 "nbformat": 4,
 "nbformat_minor": 2
}
